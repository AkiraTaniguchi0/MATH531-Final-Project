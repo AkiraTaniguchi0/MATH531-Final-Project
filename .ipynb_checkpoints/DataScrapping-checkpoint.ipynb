{
 "cells": [
  {
   "cell_type": "markdown",
   "metadata": {},
   "source": [
    "To do our data analysis in RStudio we've decided to collect NFL data from www.pro-football-reference.com. createDF function scraps data from the website and cleans it to contain only"
   ]
  },
  {
   "cell_type": "code",
   "execution_count": 2,
   "metadata": {},
   "outputs": [],
   "source": [
    "import pandas as pd\n",
    "urlhead = 'http://www.pro-football-reference.com/teams/'\n",
    "urltail = '.htm'\n",
    "newcolumns=['Week','Day','Date','NA1','NA2','W/L','NA4','REC','LOC','Opp','Score_Team','Score_Opp','O_1stD','O_TotYd','O_PassY','O_RushY','O_TO','D_1stD','D_TotYd','D_PassY','D_RushY','D_TO','Expected_O_Pts','Expected_D_Pts','Expected_Sp_Pts']\n",
    "drop = ['Day','REC','NA1','NA2','NA4','Expected_O_Pts','Expected_Sp_Pts','Expected_D_Pts','O_TO','D_TO','O_1stD','D_1stD']\n",
    "allteams = [\"ram\",\"den\",\"sea\",\"sfo\",\"atl\",\"sdg\",\"kan\",\"car\",\"nyg\",\"was\",\"nor\",\"min\",\"tam\",\"nwe\",\"buf\",\"nyj\",\"mia\",\"rav\",\"pit\",\"cle\",\"cin\",\"htx\",\"clt\",\"oti\",\"jax\",\"rai\",\"dal\",\"phi\",\"gnb\",\"chi\",\"det\",\"crd\"]\n",
    "allyears = [\"2009\",\"2010\",\"2011\",\"2012\",\"2013\",\"2014\",\"2015\",\"2016\",\"2017\",\"2018\"]\n",
    "\n"
   ]
  },
  {
   "cell_type": "code",
   "execution_count": null,
   "metadata": {},
   "outputs": [],
   "source": []
  },
  {
   "cell_type": "code",
   "execution_count": 3,
   "metadata": {},
   "outputs": [
    {
     "data": {
      "text/plain": [
       "32"
      ]
     },
     "execution_count": 3,
     "metadata": {},
     "output_type": "execute_result"
    }
   ],
   "source": [
    "def createDF(url):\n",
    "    dfs = pd.read_html(url)\n",
    "    df = dfs[1]\n",
    "    df.columns = [' '.join(col).strip() for col in df.columns.values]\n",
    "    df.columns=newcolumns\n",
    "    df['LOC'] = df['LOC'].fillna(value=0)\n",
    "    df['LOC'] = df['LOC'].replace(0,'Home')\n",
    "    df['LOC'] = df['LOC'].replace('@','Away')\n",
    "    df=df.drop(drop,axis=1)\n",
    "    bye_idx = df.index[df['Opp'].str.match('Bye',na=False)]\n",
    "    df = df.drop(bye_idx,axis = 0)\n",
    "    df = df.head(16)\n",
    "    df.set_index('Week')\n",
    "    return df\n",
    "\n",
    "\n",
    "def csvLoop():\n",
    "    for x in range(len(allteams)):\n",
    "        team = allteams[x]\n",
    "        for y in range(len(allyears)):\n",
    "            year = allyears[y]\n",
    "            url = urlhead + team + '/' + year + urltail\n",
    "            file = team + '_' + year + '.csv'\n",
    "            createDF(url).to_csv(file,index=False)\n",
    "            \n",
    "csvLoop()"
   ]
  },
  {
   "cell_type": "code",
   "execution_count": null,
   "metadata": {},
   "outputs": [],
   "source": [
    "df.drop(df.tail(2).index,inplace=True)"
   ]
  }
 ],
 "metadata": {
  "kernelspec": {
   "display_name": "Python 3",
   "language": "python",
   "name": "python3"
  },
  "language_info": {
   "codemirror_mode": {
    "name": "ipython",
    "version": 3
   },
   "file_extension": ".py",
   "mimetype": "text/x-python",
   "name": "python",
   "nbconvert_exporter": "python",
   "pygments_lexer": "ipython3",
   "version": "3.7.3"
  }
 },
 "nbformat": 4,
 "nbformat_minor": 2
}
